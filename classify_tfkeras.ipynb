{
 "cells": [
  {
   "cell_type": "code",
   "execution_count": 1,
   "metadata": {},
   "outputs": [],
   "source": [
    "import glob\n",
    "import numpy as np\n",
    "from skimage import io\n",
    "from skimage.transform import rescale\n",
    "import re\n",
    "from sklearn.model_selection import train_test_split, StratifiedKFold\n",
    "from sklearn import preprocessing\n",
    "from math import sqrt\n",
    "from skimage.filters import threshold_otsu\n",
    "import tensorflow as tf\n",
    "from tensorflow import keras\n",
    "import matplotlib.pyplot as plt"
   ]
  },
  {
   "cell_type": "code",
   "execution_count": 2,
   "metadata": {},
   "outputs": [],
   "source": [
    "def get_data():\n",
    "    files = glob.glob('data/hiragana73/*/*.png')\n",
    "    m = len(files)\n",
    "    print('Found %d files.' %m)\n",
    "    \n",
    "    return files"
   ]
  },
  {
   "cell_type": "code",
   "execution_count": 3,
   "metadata": {},
   "outputs": [],
   "source": [
    "def create_data_array(files):\n",
    "    X = np.array([io.imread(file, as_gray=True) for file in files])\n",
    "    print('Data array created.')\n",
    "\n",
    "    return X"
   ]
  },
  {
   "cell_type": "code",
   "execution_count": 4,
   "metadata": {},
   "outputs": [],
   "source": [
    "def create_target_array(files):\n",
    "    char_codes = files\n",
    "    \n",
    "    # Extract unicode from filepath\n",
    "    i = 0\n",
    "    for char_code in char_codes:\n",
    "        code = re.search(r'[0-9]{3}[0-9A-F]', char_code)\n",
    "        char_codes[i] = code.group(0)\n",
    "        i += 1\n",
    "        \n",
    "    # Convert unicode to hiragana\n",
    "    for i in range(len(char_codes)):\n",
    "        char_codes[i] = chr(int(char_codes[i], 16))\n",
    "        \n",
    "    y = np.asarray(char_codes)\n",
    "    \n",
    "    # Encode to integers\n",
    "    # (neural net can't train on strings)\n",
    "    encoder = preprocessing.LabelEncoder()\n",
    "    encoder.fit(y)\n",
    "    y = encoder.transform(y)\n",
    "    \n",
    "    print('Target array created.')\n",
    "    \n",
    "    return y"
   ]
  },
  {
   "cell_type": "code",
   "execution_count": 5,
   "metadata": {},
   "outputs": [],
   "source": [
    "def reduce_dataset(X, y, reduced_size):\n",
    "    '''\n",
    "    Returns a stratified subsample of the dataset\n",
    "    X, y reduced in size by (1 - reduced size).\n",
    "    Can be used to save CPU time if you only need to\n",
    "    perform quick experiments on a smaller dataset.\n",
    "    '''\n",
    "    \n",
    "    X_discard, X, y_discard, y = train_test_split(X, y, test_size=reduced_size, stratify=y)\n",
    "    print('Reduced dataset to %d%% of original size.' %(reduced_size*100))\n",
    "    \n",
    "    return X, y"
   ]
  },
  {
   "cell_type": "code",
   "execution_count": 6,
   "metadata": {},
   "outputs": [],
   "source": [
    "def clean_data(X):\n",
    "    # Rescaled images need new array\n",
    "    m = X.shape[0] # Number of examples\n",
    "    rescale_factor = 0.5\n",
    "    image_side_new = int(X.shape[1] * rescale_factor)\n",
    "    X_new = np.zeros(shape=(m, image_side_new, image_side_new))\n",
    "    \n",
    "    # Rescale and binarise (make black-and-white)\n",
    "    for i in range(m):\n",
    "        image = X[i]\n",
    "        image = rescale(image, scale=rescale_factor)\n",
    "        thresh = threshold_otsu(image)\n",
    "        image = image > thresh\n",
    "        X_new[i] = image        \n",
    "    \n",
    "    print('Data cleaned.')\n",
    "    \n",
    "    return X_new"
   ]
  },
  {
   "cell_type": "code",
   "execution_count": 7,
   "metadata": {},
   "outputs": [],
   "source": [
    "def train_and_test(X, y, n_folds, n_epochs):\n",
    "    print('Train and test classifier using %d folds...' %(n_folds))\n",
    "\n",
    "    # Calculate some numbers needed for neural net\n",
    "    image_shape = X.shape[1:] # image dimensions, e.g. (25, 25)\n",
    "    n_feaures = np.prod(X.shape[1:]) # number of pixels in an image\n",
    "    n_classes = len(set(y))\n",
    "    \n",
    "    # Use geometric mean of input and output layers\n",
    "    # for hidden layer size\n",
    "    hidden_layer_size = int(sqrt(n_feaures*n_classes))\n",
    "\n",
    "    # Create empty arrays to save training and testing scores\n",
    "    train_scores = np.zeros(shape=(n_folds, n_epochs))\n",
    "    test_scores = np.zeros(shape=(n_folds, n_epochs))\n",
    "    \n",
    "    # k-fold cross validation\n",
    "    kfold = StratifiedKFold(n_splits=n_folds, shuffle=True)\n",
    "    \n",
    "    # Loop through folds\n",
    "    k=1\n",
    "    for i_train, i_test in  kfold.split(X, y):\n",
    "        print('  Fold %d/%d... ' %(k, n_folds), end='')\n",
    "  \n",
    "        # Select train and test data for this fold\n",
    "        X_train, y_train = X[i_train], y[i_train]\n",
    "        X_test, y_test = X[i_test], y[i_test]\n",
    "\n",
    "        # Define and compile neural net model (has to be done anew for each fold)\n",
    "        model = keras.Sequential([\n",
    "            keras.layers.Flatten(input_shape=image_shape),\n",
    "            keras.layers.Dense(hidden_layer_size, activation='relu'),\n",
    "            keras.layers.Dense(n_classes)\n",
    "        ])\n",
    "        \n",
    "        model.compile(optimizer='adam',\n",
    "                     loss=tf.keras.losses.SparseCategoricalCrossentropy(from_logits=True),\n",
    "                     metrics=['accuracy'])\n",
    "        \n",
    "        # Train over n_epochs\n",
    "        history = model.fit(X_train, y_train, epochs=n_epochs,\n",
    "                            verbose=0, validation_data=(X_test, y_test))\n",
    "        \n",
    "        # Save scores for all epochs for this fold\n",
    "        train_scores[k-1, :] = history.history['accuracy']\n",
    "        test_scores[k-1, :] = history.history['val_accuracy']\n",
    "        \n",
    "        print('done.')\n",
    "        k += 1\n",
    "    \n",
    "    return train_scores, test_scores"
   ]
  },
  {
   "cell_type": "code",
   "execution_count": 8,
   "metadata": {},
   "outputs": [],
   "source": [
    "def evaluate(train_scores, test_scores):\n",
    "    print('Classifier performance:')\n",
    "    \n",
    "    # Calculate average accuracies with uncertainties\n",
    "    train_acc_means = np.mean(train_scores, axis=0)\n",
    "    train_acc_errs = 2*np.std(train_scores, axis=0)\n",
    "    test_acc_means = np.mean(test_scores, axis=0)\n",
    "    test_acc_errs = 2*np.std(test_scores, axis=0)\n",
    "    \n",
    "    # Create array of epoch numbers for x-axis values\n",
    "    n_epochs = train_scores.shape[1]\n",
    "    epochs = np.arange(start=1, stop=n_epochs+1)\n",
    "    \n",
    "    # Plot learning curves\n",
    "    plt.figure(figsize=(8, 5))\n",
    "    plt.plot(epochs, train_acc_means, 'r-', label='Train')\n",
    "    plt.fill_between(epochs,\n",
    "                     train_acc_means+train_acc_errs,\n",
    "                     train_acc_means-train_acc_errs,\n",
    "                     color='red', alpha=0.2)\n",
    "    plt.plot(epochs, test_acc_means, 'b-', label='Test')\n",
    "    plt.fill_between(epochs,\n",
    "                     test_acc_means+test_acc_errs,\n",
    "                     test_acc_means-test_acc_errs,\n",
    "                     color='blue', alpha=0.2)\n",
    "    plt.xlabel('Epoch', fontsize=12)\n",
    "    plt.ylabel('Accuracy (±2σ shaded regions)', fontsize=12)\n",
    "    plt.xlim(epochs[0], epochs[-1])\n",
    "    plt.legend(loc='lower right', fontsize=12)\n",
    "    plt.title('Epoch-wise learning curves', fontsize=16)\n",
    "    plt.show()\n",
    "    \n",
    "    # Final results (after n_epochs)\n",
    "    print('Final results ± 2σ:')\n",
    "    print('    train accuracy: (%.2f ± %.2f)%%,'\n",
    "          %(train_acc_means[-1]*100, train_acc_errs[-1]*100))\n",
    "    print('    test accuracy: (%.2f ± %.2f)%%.\\n'\n",
    "          %(test_acc_means[-1]*100, test_acc_errs[-1]*100))"
   ]
  },
  {
   "cell_type": "code",
   "execution_count": 9,
   "metadata": {},
   "outputs": [],
   "source": [
    "def run():\n",
    "    files = get_data()\n",
    "    X = create_data_array(files)\n",
    "    y = create_target_array(files)\n",
    "    #X, y = reduce_dataset(X, y, reduced_size=0.1)\n",
    "    X = clean_data(X)\n",
    "    train_scores, test_scores = train_and_test(X, y, n_folds=5, n_epochs=10)\n",
    "    evaluate(train_scores, test_scores)"
   ]
  },
  {
   "cell_type": "code",
   "execution_count": 10,
   "metadata": {},
   "outputs": [
    {
     "name": "stdout",
     "output_type": "stream",
     "text": [
      "Found 80000 files.\n",
      "Data array created.\n",
      "Target array created.\n",
      "Data cleaned.\n",
      "Train and test classifier using 5 folds...\n",
      "  Fold 1/5... done.\n",
      "  Fold 2/5... done.\n",
      "  Fold 3/5... done.\n",
      "  Fold 4/5... done.\n",
      "  Fold 5/5... done.\n",
      "Classifier performance:\n"
     ]
    },
    {
     "data": {
      "image/png": "[encoded data removed]",
      "text/plain": [
       "<Figure size 576x360 with 1 Axes>"
      ]
     },
     "metadata": {
      "needs_background": "light"
     },
     "output_type": "display_data"
    },
    {
     "name": "stdout",
     "output_type": "stream",
     "text": [
      "Final results ± 2σ:\n",
      "    train accuracy: (98.29 ± 0.12)%,\n",
      "    test accuracy: (97.32 ± 0.46)%.\n",
      "\n"
     ]
    }
   ],
   "source": [
    "run()"
   ]
  },
  {
   "cell_type": "markdown",
   "metadata": {},
   "source": [
    "We see that the train results are worse than the test results in the first epoch, and sometimes in the next few epochs. This is expected behaviour:\n",
    "\n",
    "> ... the training loss is the average of the losses over each batch of training data. Because your model is changing over time, the loss over the first batches of an epoch is generally higher than over the last batches. On the other hand, the testing loss for an epoch is computed using the model as it is at the end of the epoch, resulting in a lower loss.\n",
    "\n",
    "https://keras.io/getting-started/faq/#why-is-the-training-loss-much-higher-than-the-testing-loss"
   ]
  }
 ],
 "metadata": {
  "kernelspec": {
   "display_name": "Python 3",
   "language": "python",
   "name": "python3"
  },
  "language_info": {
   "codemirror_mode": {
    "name": "ipython",
    "version": 3
   },
   "file_extension": ".py",
   "mimetype": "text/x-python",
   "name": "python",
   "nbconvert_exporter": "python",
   "pygments_lexer": "ipython3",
   "version": "3.6.10"
  }
 },
 "nbformat": 4,
 "nbformat_minor": 2
}
