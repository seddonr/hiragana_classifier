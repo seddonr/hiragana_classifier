{
 "cells": [
  {
   "cell_type": "code",
   "execution_count": 1,
   "metadata": {
    "collapsed": true
   },
   "outputs": [],
   "source": [
    "import glob\n",
    "import numpy as np\n",
    "from skimage import io\n",
    "from skimage.transform import rescale\n",
    "import re\n",
    "from sklearn.model_selection import train_test_split, learning_curve\n",
    "from math import sqrt\n",
    "from sklearn.neural_network import MLPClassifier\n",
    "from skimage.filters import threshold_otsu\n",
    "import matplotlib.pyplot as plt"
   ]
  },
  {
   "cell_type": "code",
   "execution_count": 2,
   "metadata": {
    "collapsed": true
   },
   "outputs": [],
   "source": [
    "def get_data():\n",
    "    files = glob.glob('data/hiragana73/*/*.png')\n",
    "    m = len(files)\n",
    "    print('Found %d files.' %m)\n",
    "    \n",
    "    return files"
   ]
  },
  {
   "cell_type": "code",
   "execution_count": 3,
   "metadata": {
    "collapsed": true
   },
   "outputs": [],
   "source": [
    "def create_data_array(files):\n",
    "    X = np.array([io.imread(file, as_gray=True) for file in files])\n",
    "    print('Data array created.')\n",
    "\n",
    "    return X"
   ]
  },
  {
   "cell_type": "code",
   "execution_count": 4,
   "metadata": {
    "collapsed": true
   },
   "outputs": [],
   "source": [
    "def create_target_array(files):\n",
    "    char_codes = files\n",
    "    \n",
    "    # Extract unicode from filepath\n",
    "    i = 0\n",
    "    for char_code in char_codes:\n",
    "        code = re.search(r'[0-9]{3}[0-9A-F]', char_code)\n",
    "        char_codes[i] = code.group(0)\n",
    "        i += 1\n",
    "        \n",
    "    # Convert unicode to hiragana\n",
    "    for i in range(len(char_codes)):\n",
    "        char_codes[i] = chr(int(char_codes[i], 16))\n",
    "        \n",
    "    y = np.asarray(char_codes)\n",
    "    print('Target array created.')\n",
    "    \n",
    "    return y"
   ]
  },
  {
   "cell_type": "code",
   "execution_count": 5,
   "metadata": {
    "collapsed": true
   },
   "outputs": [],
   "source": [
    "def reduce_dataset(X, y, reduced_size):\n",
    "    '''\n",
    "    Returns a stratified subsample of the dataset\n",
    "    X, y reduced in size by (1 - reduced size).\n",
    "    Can be used to save CPU time if you only need to\n",
    "    perform quick experiments on a smaller dataset.\n",
    "    '''\n",
    "    \n",
    "    X_discard, X, y_discard, y = train_test_split(X, y, test_size=reduced_size, stratify=y)\n",
    "    print('Reduced dataset to %d%% of original size.' %(reduced_size*100))\n",
    "    \n",
    "    return X, y"
   ]
  },
  {
   "cell_type": "code",
   "execution_count": 6,
   "metadata": {
    "collapsed": true
   },
   "outputs": [],
   "source": [
    "def clean_data(X):\n",
    "    # Rescaled images need new array\n",
    "    m = X.shape[0] # Number of examples\n",
    "    rescale_factor = 0.5\n",
    "    image_side_new = int(X.shape[1] * rescale_factor)\n",
    "    X_new = np.zeros(shape=(m, image_side_new, image_side_new))\n",
    "    \n",
    "    # Rescale and binarise (make black-and-white)\n",
    "    for i in range(m):\n",
    "        image = X[i]\n",
    "        image = rescale(image, scale=rescale_factor)\n",
    "        thresh = threshold_otsu(image)\n",
    "        image = image > thresh\n",
    "        X_new[i] = image        \n",
    "        \n",
    "    # Flatten for sklearn\n",
    "    X_new = X_new.reshape(m, -1)\n",
    "    \n",
    "    print('Data cleaned.')\n",
    "    \n",
    "    return X_new"
   ]
  },
  {
   "cell_type": "code",
   "execution_count": 7,
   "metadata": {
    "collapsed": true
   },
   "outputs": [],
   "source": [
    "def train_and_test(X, y, n_folds):\n",
    "    print('Training and testing classifier with %d folds...' %n_folds)\n",
    "    \n",
    "    # Set up classifier\n",
    "    input_layer_size = X.shape[1]\n",
    "    output_layer_size = len(set(y))\n",
    "    hidden_layer_size = int(sqrt(input_layer_size*output_layer_size))\n",
    "\n",
    "    clf = MLPClassifier(hidden_layer_sizes=(hidden_layer_size,),\n",
    "                        max_iter=300)\n",
    "\n",
    "    # Train/test\n",
    "    train_fractions = np.array([1/16, 1/8, 1/4, 1/2, 1])\n",
    "    \n",
    "    train_sizes, train_scores, test_scores = learning_curve(\n",
    "        estimator=clf, X=X, y=y, train_sizes=train_fractions,\n",
    "        cv=n_folds, scoring='accuracy', shuffle=True)\n",
    "    \n",
    "    return train_sizes, train_scores, test_scores"
   ]
  },
  {
   "cell_type": "code",
   "execution_count": 8,
   "metadata": {
    "collapsed": true
   },
   "outputs": [],
   "source": [
    "def evaluate(train_sizes, train_scores, test_scores):\n",
    "    print('Classifier performance:')\n",
    "    \n",
    "    train_acc_means = np.mean(train_scores, axis=1)\n",
    "    train_acc_errs = 2*np.std(train_scores, axis=1)\n",
    "\n",
    "    test_acc_means = np.mean(test_scores, axis=1)\n",
    "    test_acc_errs = 2*np.std(test_scores, axis=1)\n",
    "    \n",
    "    # Plot learning curves\n",
    "    plt.figure(figsize=(8, 5))\n",
    "    plt.plot(train_sizes, train_acc_means, 'k--', label='Train accuracy')\n",
    "    if np.sum(train_acc_errs) > 0:\n",
    "        plt.fill_between(train_sizes, train_acc_means-train_acc_errs,\n",
    "                         train_acc_means+train_acc_errs,\n",
    "                         color='lightgray', alpha=0.5)\n",
    "    plt.plot(train_sizes, test_acc_means, 'k-', label='Test accuracy')\n",
    "    plt.fill_between(train_sizes, test_acc_means-test_acc_errs,\n",
    "                     test_acc_means+test_acc_errs, color='lightgray',\n",
    "                     alpha=0.5, label='± 2σ')\n",
    "    plt.xlabel('Number of training examples (log scale)', fontsize=12)\n",
    "    plt.ylabel('Accuracy', fontsize=12)\n",
    "    plt.xscale('log')\n",
    "    plt.xlim(train_sizes[0], train_sizes[-1])\n",
    "    plt.xticks(train_sizes, train_sizes)\n",
    "    plt.minorticks_off()\n",
    "    plt.legend(loc='lower right', fontsize=12)\n",
    "    plt.title('Learning curves', fontsize=16)\n",
    "    plt.show()\n",
    "    \n",
    "    # Final results (with full dataset)    \n",
    "    print('Final results ± 2σ:')\n",
    "    print('    train accuracy: (%.2f ± %.2f)%%,'\n",
    "          %(train_acc_means[-1]*100, train_acc_errs[-1]*100))\n",
    "    print('    test accuracy: (%.2f ± %.2f)%%.\\n'\n",
    "          %(test_acc_means[-1]*100, test_acc_errs[-1]*100))"
   ]
  },
  {
   "cell_type": "code",
   "execution_count": null,
   "metadata": {
    "collapsed": true
   },
   "outputs": [],
   "source": [
    "def run():\n",
    "    files = get_data()\n",
    "    X = create_data_array(files)\n",
    "    y = create_target_array(files)\n",
    "    #X, y = reduce_dataset(X, y, reduced_size=0.1)\n",
    "    X = clean_data(X)\n",
    "    train_sizes, train_scores, test_scores = train_and_test(X, y, n_folds=5)\n",
    "    evaluate(train_sizes, train_scores, test_scores)"
   ]
  },
  {
   "cell_type": "code",
   "execution_count": null,
   "metadata": {},
   "outputs": [
    {
     "name": "stdout",
     "output_type": "stream",
     "text": [
      "Found 80000 files.\n",
      "Data array created.\n",
      "Target array created.\n",
      "Data cleaned.\n",
      "Training and testing classifier with 5 folds...\n",
      "Classifier performance:\n"
     ]
    },
    {
     "data": {
      "image/png": "[encoded data removed]",
      "text/plain": [
       "<Figure size 576x360 with 1 Axes>"
      ]
     },
     "metadata": {},
     "output_type": "display_data"
    },
    {
     "name": "stdout",
     "output_type": "stream",
     "text": [
      "Final results ± 2σ:\n",
      "    train accuracy: (99.77 ± 0.55)%,\n",
      "    test accuracy: (97.91 ± 0.83)%.\n",
      "\n"
     ]
    }
   ],
   "source": [
    "run()"
   ]
  },
  {
   "cell_type": "markdown",
   "metadata": {},
   "source": [
    "## Possible imrpovements:\n",
    "\n",
    "* The learning curves suggest we could get a better result if we have more data. We would either have to collect more real data, or create artificial data via augmentation. Beware the x-axis is a log scale, so another doubling of data means doubling the CPU time needed to train. Anything less than a doubling will bring very modest improvements to accuracy.\n",
    "\n",
    "* Optimise hyperparamaters, e.g. using a grid search.\n",
    "\n",
    "* Different/further pre-processing of the data (see `explore.ipynb`) might allow us to engineer/extract some useful features to train on.\n",
    "\n",
    "We should also consider that we're already achieving ~98% accuracy. Any further gains will be small, so depending on the application, we should consider whether the value of any future gains are worth the time required to achieve them."
   ]
  }
 ],
 "metadata": {
  "kernelspec": {
   "display_name": "Python 3",
   "language": "python",
   "name": "python3"
  },
  "language_info": {
   "codemirror_mode": {
    "name": "ipython",
    "version": 3
   },
   "file_extension": ".py",
   "mimetype": "text/x-python",
   "name": "python",
   "nbconvert_exporter": "python",
   "pygments_lexer": "ipython3",
   "version": "3.6.10"
  }
 },
 "nbformat": 4,
 "nbformat_minor": 2
}
