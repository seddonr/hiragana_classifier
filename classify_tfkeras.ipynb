{
 "cells": [
  {
   "cell_type": "code",
   "execution_count": 1,
   "metadata": {},
   "outputs": [],
   "source": [
    "import glob\n",
    "import numpy as np\n",
    "from skimage import io\n",
    "from skimage.transform import rescale\n",
    "import re\n",
    "from sklearn.model_selection import train_test_split, KFold\n",
    "from sklearn import preprocessing\n",
    "from math import sqrt\n",
    "from skimage.filters import threshold_otsu\n",
    "import tensorflow as tf\n",
    "from tensorflow import keras\n",
    "import matplotlib.pyplot as plt"
   ]
  },
  {
   "cell_type": "code",
   "execution_count": 2,
   "metadata": {},
   "outputs": [],
   "source": [
    "def get_data():\n",
    "    files = glob.glob('data/hiragana73/*/*.png')\n",
    "    m = len(files)\n",
    "    print('Found %d files.' %m)\n",
    "    \n",
    "    return files"
   ]
  },
  {
   "cell_type": "code",
   "execution_count": 3,
   "metadata": {},
   "outputs": [],
   "source": [
    "def create_data_array(files):\n",
    "    X = np.array([io.imread(file, as_gray=True) for file in files])\n",
    "    print('Data array created.')\n",
    "\n",
    "    return X"
   ]
  },
  {
   "cell_type": "code",
   "execution_count": 4,
   "metadata": {},
   "outputs": [],
   "source": [
    "def create_target_array(files):\n",
    "    char_codes = files\n",
    "    \n",
    "    # Extract unicode from filepath\n",
    "    i = 0\n",
    "    for char_code in char_codes:\n",
    "        code = re.search(r'[0-9]{3}[0-9A-F]', char_code)\n",
    "        char_codes[i] = code.group(0)\n",
    "        i += 1\n",
    "        \n",
    "    # Convert unicode to hiragana\n",
    "    for i in range(len(char_codes)):\n",
    "        char_codes[i] = chr(int(char_codes[i], 16))\n",
    "        \n",
    "    y = np.asarray(char_codes)\n",
    "    \n",
    "    # Encode to integers\n",
    "    encoder = preprocessing.LabelEncoder()\n",
    "    encoder.fit(y)\n",
    "    y = encoder.transform(y)\n",
    "    \n",
    "    print('Target array created.')\n",
    "    \n",
    "    return y"
   ]
  },
  {
   "cell_type": "code",
   "execution_count": 5,
   "metadata": {},
   "outputs": [],
   "source": [
    "def reduce_dataset(X, y, reduced_size):\n",
    "    '''\n",
    "    Returns a stratified subsample of the dataset\n",
    "    X, y reduced in size by (1 - reduced size).\n",
    "    Can be used to save CPU time if you only need to\n",
    "    perform quick experiments on a smaller dataset.\n",
    "    '''\n",
    "    \n",
    "    X_discard, X, y_discard, y = train_test_split(X, y, test_size=reduced_size, stratify=y)\n",
    "    print('Reduced dataset to %d%% of original size.' %(reduced_size*100))\n",
    "    \n",
    "    return X, y"
   ]
  },
  {
   "cell_type": "code",
   "execution_count": 6,
   "metadata": {},
   "outputs": [],
   "source": [
    "def clean_data(X):\n",
    "    # Rescaled images need new array\n",
    "    m = X.shape[0] # Number of examples\n",
    "    rescale_factor = 0.5\n",
    "    image_side_new = int(X.shape[1] * rescale_factor)\n",
    "    X_new = np.zeros(shape=(m, image_side_new, image_side_new))\n",
    "    \n",
    "    # Rescale and binarise (make black-and-white)\n",
    "    for i in range(m):\n",
    "        image = X[i]\n",
    "        image = rescale(image, scale=rescale_factor)\n",
    "        thresh = threshold_otsu(image)\n",
    "        image = image > thresh\n",
    "        X_new[i] = image        \n",
    "        \n",
    "    # Flatten for sklearn\n",
    "    X_new = X_new.reshape(m, -1)\n",
    "    \n",
    "    print('Data cleaned.')\n",
    "    \n",
    "    return X_new"
   ]
  },
  {
   "cell_type": "code",
   "execution_count": 7,
   "metadata": {},
   "outputs": [],
   "source": [
    "def train(X, y):\n",
    "    print('Train on %d samples.' %(X.shape[0]))\n",
    "\n",
    "    image_shape = X.shape[1:]\n",
    "    n_feaures = np.prod(X.shape[1:])\n",
    "    n_classes = len(set(y))\n",
    "    hidden_layer_size = int(sqrt(n_feaures*n_classes))\n",
    "    \n",
    "    model = keras.Sequential([\n",
    "        keras.layers.Flatten(input_shape=image_shape),\n",
    "        keras.layers.Dense(hidden_layer_size, activation='relu'),\n",
    "        keras.layers.Dense(n_classes)\n",
    "    ])\n",
    "        \n",
    "    model.compile(optimizer='adam',\n",
    "                 loss=tf.keras.losses.SparseCategoricalCrossentropy(from_logits=True),\n",
    "                 metrics=['accuracy'])\n",
    "\n",
    "    history = model.fit(X, y, epochs=10, verbose=0, validation_split=0.1)\n",
    "    \n",
    "    return model, history"
   ]
  },
  {
   "cell_type": "code",
   "execution_count": 18,
   "metadata": {},
   "outputs": [],
   "source": [
    "def evaluate(history):\n",
    "    #print(history.history)\n",
    "    plt.figure(figsize=(8, 5))\n",
    "    plt.plot(history.history['accuracy'], label='Training')\n",
    "    plt.plot(history.history['val_accuracy'], label='Validation')\n",
    "    plt.xlabel('Epoch')\n",
    "    plt.ylabel('Accuracy')\n",
    "    plt.legend()\n",
    "    plt.show()"
   ]
  },
  {
   "cell_type": "markdown",
   "metadata": {},
   "source": [
    "def run():\n",
    "    files = get_data()\n",
    "    X = create_data_array(files)\n",
    "    y = create_target_array(files)\n",
    "    X, y = reduce_dataset(X, y, reduced_size=0.1)\n",
    "    X = clean_data(X)\n",
    "    X_train, X_test, y_train, y_test = train_test_split(X, y, test_size=0.1, stratify=y)\n",
    "    model = train(X_train, y_train)\n",
    "    test(X_test, y_test, model)"
   ]
  },
  {
   "cell_type": "markdown",
   "metadata": {},
   "source": [
    "run()"
   ]
  },
  {
   "cell_type": "code",
   "execution_count": 9,
   "metadata": {},
   "outputs": [
    {
     "name": "stdout",
     "output_type": "stream",
     "text": [
      "Found 80000 files.\n",
      "Data array created.\n",
      "Target array created.\n",
      "Reduced dataset to 10% of original size.\n",
      "Data cleaned.\n"
     ]
    }
   ],
   "source": [
    "files = get_data()\n",
    "X = create_data_array(files)\n",
    "y = create_target_array(files)\n",
    "X, y = reduce_dataset(X, y, reduced_size=0.1)\n",
    "X = clean_data(X)"
   ]
  },
  {
   "cell_type": "code",
   "execution_count": 10,
   "metadata": {},
   "outputs": [
    {
     "name": "stdout",
     "output_type": "stream",
     "text": [
      "Train on 8000 samples.\n"
     ]
    }
   ],
   "source": [
    "model, history = train(X, y)"
   ]
  },
  {
   "cell_type": "code",
   "execution_count": 19,
   "metadata": {},
   "outputs": [
    {
     "data": {
      "image/png": "[encoded data removed]",
      "text/plain": [
       "<Figure size 576x360 with 1 Axes>"
      ]
     },
     "metadata": {
      "needs_background": "light"
     },
     "output_type": "display_data"
    }
   ],
   "source": [
    "evaluate(history)"
   ]
  }
 ],
 "metadata": {
  "kernelspec": {
   "display_name": "Python 3",
   "language": "python",
   "name": "python3"
  },
  "language_info": {
   "codemirror_mode": {
    "name": "ipython",
    "version": 3
   },
   "file_extension": ".py",
   "mimetype": "text/x-python",
   "name": "python",
   "nbconvert_exporter": "python",
   "pygments_lexer": "ipython3",
   "version": "3.6.10"
  }
 },
 "nbformat": 4,
 "nbformat_minor": 2
}
